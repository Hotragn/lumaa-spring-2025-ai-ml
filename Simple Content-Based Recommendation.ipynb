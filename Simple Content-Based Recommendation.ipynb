{
 "cells": [
  {
   "cell_type": "code",
   "execution_count": 177,
   "metadata": {},
   "outputs": [],
   "source": [
    "import pandas as pd\n",
    "import numpy as np\n",
    "from sklearn.feature_extraction.text import TfidfVectorizer\n",
    "from sklearn.metrics.pairwise import cosine_similarity\n",
    "from nltk.stem import WordNetLemmatizer\n",
    "import re"
   ]
  },
  {
   "cell_type": "code",
   "execution_count": 178,
   "metadata": {},
   "outputs": [],
   "source": [
    "df = pd.read_csv('Top_Movies.csv')"
   ]
  },
  {
   "cell_type": "code",
   "execution_count": 179,
   "metadata": {},
   "outputs": [],
   "source": [
    "def preprocess_text(text):\n",
    "    \"\"\"Clean and preprocess text data\"\"\"\n",
    "    lemmatizer = WordNetLemmatizer()\n",
    "    if isinstance(text, str):\n",
    "        # Convert to lowercase and remove special characters\n",
    "        text = text.lower()\n",
    "        text = re.sub(r'[^\\w\\s]', '', text)\n",
    "        text = ' '.join(lemmatizer.lemmatize(word) for word in text.split())\n",
    "        return text\n",
    "    return ''\n",
    "\n",
    "# Combine relevant features for content-based filtering\n",
    "df['combined_features'] = df['Plot'] + ' ' + df['Genre'] + ' ' + df['Directors'] + ' ' + df['Stars']\n",
    "df['combined_features'] = df['combined_features'].apply(preprocess_text)"
   ]
  },
  {
   "cell_type": "code",
   "execution_count": 180,
   "metadata": {},
   "outputs": [],
   "source": [
    "def create_tfidf_matrix(text_data):\n",
    "    \"\"\"Create TF-IDF matrix from text data\"\"\"\n",
    "    tfidf = TfidfVectorizer(stop_words='english')\n",
    "    return tfidf.fit_transform(text_data)\n",
    "\n",
    "# Create TF-IDF matrix\n",
    "tfidf_matrix = create_tfidf_matrix(df['combined_features'])"
   ]
  },
  {
   "cell_type": "code",
   "execution_count": 181,
   "metadata": {},
   "outputs": [],
   "source": [
    "def compute_similarity(tfidf_matrix):\n",
    "    \"\"\"Compute cosine similarity between items\"\"\"\n",
    "    return cosine_similarity(tfidf_matrix)\n",
    "\n",
    "# Calculate similarity matrix\n",
    "similarity_matrix = compute_similarity(tfidf_matrix)"
   ]
  },
  {
   "cell_type": "code",
   "execution_count": 182,
   "metadata": {},
   "outputs": [],
   "source": [
    "def extract_genre_from_query(query):\n",
    "    \"\"\"Extract genre preference from user query\"\"\"\n",
    "    genre_keywords = {\n",
    "        'action': 'Action',\n",
    "        'comedy': 'Comedy',\n",
    "        'drama': 'Drama',\n",
    "        'thriller': 'Thriller',\n",
    "        'horror': 'Horror',\n",
    "        'romance': 'Romance'\n",
    "    }\n",
    "    \n",
    "    query = query.lower()\n",
    "    for keyword, genre in genre_keywords.items():\n",
    "        if keyword in query:\n",
    "            return genre\n",
    "    return None"
   ]
  },
  {
   "cell_type": "code",
   "execution_count": 183,
   "metadata": {},
   "outputs": [],
   "source": [
    "def combine_features(row):\n",
    "    \"\"\"\n",
    "    Combine relevant features with appropriate weightage\n",
    "    \"\"\"\n",
    "    plot = row['Plot'] if isinstance(row['Plot'], str) else ''\n",
    "    genre = row['Genre'] if isinstance(row['Genre'], str) else ''\n",
    "    \n",
    "    # Give more weight to genre by repeating it\n",
    "    return f\"{plot} {genre} {genre}\""
   ]
  },
  {
   "cell_type": "code",
   "execution_count": 186,
   "metadata": {},
   "outputs": [],
   "source": [
    "def get_recommendations(user_query, df, n_recommendations=5, similarity_matrix=None):\n",
    "    \"\"\"\n",
    "    Generate movie recommendations based on user input\n",
    "    \n",
    "    Parameters:\n",
    "    user_query (str): User's text description of preferences\n",
    "    df (DataFrame): Movie dataset\n",
    "    n_recommendations (int): Number of recommendations to return\n",
    "    similarity_matrix: Pre-computed similarity matrix (optional)\n",
    "    \n",
    "    Returns:\n",
    "    list: Top N movie recommendations\n",
    "    \"\"\"\n",
    "    # Preprocess user query\n",
    "    user_query = preprocess_text(user_query)\n",
    "    \n",
    "    # Extract genre preference\n",
    "    preferred_genre = extract_genre_from_query(user_query)\n",
    "    \n",
    "    # Create or use pre-computed features\n",
    "    if 'combined_features' not in df.columns:\n",
    "        df['combined_features'] = df.apply(combine_features, axis=1)\n",
    "        df['combined_features'] = df['combined_features'].apply(preprocess_text)\n",
    "    \n",
    "    # Create TF-IDF vectorizer with improved parameters\n",
    "    tfidf = TfidfVectorizer(\n",
    "        stop_words='english',\n",
    "        ngram_range=(1, 2),  # Include bigrams\n",
    "        max_features=5000,    # Limit features to most important ones\n",
    "        min_df=2,            # Ignore terms that appear in less than 2 documents\n",
    "        max_df=0.95          # Ignore terms that appear in more than 95% of documents\n",
    "    )\n",
    "    \n",
    "    # Fit transform the features\n",
    "    tfidf_matrix = tfidf.fit_transform(df['combined_features'])\n",
    "    \n",
    "    # Transform user query\n",
    "    query_vector = tfidf.transform([user_query])\n",
    "    \n",
    "    # Calculate similarity scores\n",
    "    similarity_scores = cosine_similarity(query_vector, tfidf_matrix)[0]\n",
    "    \n",
    "    # Apply genre filtering with weighted boost\n",
    "    if preferred_genre:\n",
    "        genre_mask = df['Genre'].str.contains(preferred_genre, case=False).values\n",
    "        # Boost similarity scores for preferred genre\n",
    "        similarity_scores = similarity_scores * (1 + 0.5 * genre_mask)\n",
    "    \n",
    "    # Get top recommendations\n",
    "    movie_indices = np.argsort(similarity_scores)[::-1][:n_recommendations]\n",
    "    \n",
    "    recommendations = []\n",
    "    for idx in movie_indices:\n",
    "        if similarity_scores[idx] > 0:\n",
    "            recommendations.append({\n",
    "                'title': df.iloc[idx]['Movie Name'],\n",
    "                'genre': df.iloc[idx]['Genre'],\n",
    "                'plot': df.iloc[idx]['Plot'],\n",
    "                'similarity_score': round(float(similarity_scores[idx]), 3)\n",
    "            })\n",
    "    \n",
    "    return recommendations\n",
    "\n",
    "# Example usage\n",
    "user_query = \"I love animation and action movies\"\n",
    "recommendations = get_recommendations(user_query, df)\n"
   ]
  },
  {
   "cell_type": "code",
   "execution_count": 187,
   "metadata": {},
   "outputs": [
    {
     "name": "stdout",
     "output_type": "stream",
     "text": [
      "User Query: I love animation and action movies\n",
      "\n",
      "Recommended Movies:\n",
      "\n",
      "1. The Incredibles\n",
      "Genre: Animation, Action, Adventure\n",
      "Similarity Score: 0.30\n",
      "\n",
      "2. Mononoke-hime\n",
      "Genre: Animation, Action, Adventure\n",
      "Similarity Score: 0.30\n",
      "\n",
      "3. Beauty and the Beast\n",
      "Genre: Animation, Family, Fantasy\n",
      "Similarity Score: 0.21\n",
      "\n",
      "4. The Little Mermaid\n",
      "Genre: Animation, Adventure, Family\n",
      "Similarity Score: 0.21\n",
      "\n",
      "5. Being John Malkovich\n",
      "Genre: Comedy, Drama, Fantasy\n",
      "Similarity Score: 0.11\n"
     ]
    }
   ],
   "source": [
    "# Display recommendations\n",
    "print(\"User Query:\", user_query)\n",
    "print(\"\\nRecommended Movies:\")\n",
    "for i, rec in enumerate(recommendations, 1):\n",
    "    print(f\"\\n{i}. {rec['title']}\")\n",
    "    print(f\"Genre: {rec['genre']}\")\n",
    "    print(f\"Similarity Score: {rec['similarity_score']:.2f}\")"
   ]
  },
  {
   "cell_type": "code",
   "execution_count": null,
   "metadata": {},
   "outputs": [],
   "source": []
  }
 ],
 "metadata": {
  "kernelspec": {
   "display_name": "NLP",
   "language": "python",
   "name": "python3"
  },
  "language_info": {
   "codemirror_mode": {
    "name": "ipython",
    "version": 3
   },
   "file_extension": ".py",
   "mimetype": "text/x-python",
   "name": "python",
   "nbconvert_exporter": "python",
   "pygments_lexer": "ipython3",
   "version": "3.9.18"
  }
 },
 "nbformat": 4,
 "nbformat_minor": 2
}
